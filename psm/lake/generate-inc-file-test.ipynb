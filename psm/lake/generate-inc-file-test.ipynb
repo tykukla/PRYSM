{
 "cells": [
  {
   "cell_type": "code",
   "execution_count": 16,
   "metadata": {},
   "outputs": [],
   "source": [
    "import os\n",
    "import re"
   ]
  },
  {
   "cell_type": "code",
   "execution_count": 34,
   "metadata": {},
   "outputs": [],
   "source": [
    "# # THIS IS UNNECESSARY IN CURRENT CONFIG (which can handle updates of any type)\n",
    "\n",
    "# input_types = {\n",
    "#     # ---------------------------------------------------------------------\n",
    "#     # --- TEMPLATE.inc input types (dictates how values are added to line)\n",
    "#     # \n",
    "#     # --- lake-specific parameters\n",
    "#     \"oblq\": 'numeric',    # obliquity\n",
    "#     \"xlat\": 'numeric',    # latitude (negative for south)\n",
    "#     \"xlon\": 'numeric',    # longitude (negative for west)\n",
    "#     \"gmt\": 'string',     # [hrs] local time relative to gmt in hours\n",
    "#     \"max_dep\": 'numeric',  # [m] depth of lake at sill \n",
    "#     \"basedep\": 'numeric', # [m] elevation of basin at bottom \n",
    "#     \"b_area\": 'numeric', # [ha] area of catchment + lake\n",
    "#     \"cdrn\": 'numeric',  # neutral drag coefficient (1.8 HAD 1.7GISS 1.2CCSM)\n",
    "#     \"eta\": 'numeric',    # [m-1] shortwave extinction coefficient\n",
    "#     \"f\": 'numeric',        # fraction of advected air over lake\n",
    "#     \"alb_slush\": 'numeric', # [] albedo of melting snow\n",
    "#     \"alb_snow\": 'numeric', # [] albedo of non-melting snow\n",
    "#     \"depth_begin\": 'numeric', # [m] prescribed depth\n",
    "#     \"salty_begin\": 'numeric', # [ppt] prescribed salinity\n",
    "#     \"o18air\": 'numeric', # [per mil VSMOW] d18O of air above lake\n",
    "#     \"deutair\": 'numeric', # [per mil VSMOW] dD of air above lake\n",
    "#     \"tempinit\": 'numeric', # [degC] temperature to initialize lake at in INIT_LAKE subroutine\n",
    "#     \"deutinit\": 'numeric', # [per mil VSMOW] dD to initialize lake at in INIT_LAKE subroutine\n",
    "#     \"o18init\": 'numeric', # [per mil VSMOW] d18O to initialize lake at in INIT_LAKE subroutine\n",
    "#     # \n",
    "#     # --- simulation-specific parameters\n",
    "#     \"nspin\": 'numeric',     # [yrs] number of years for spinup\n",
    "#     \"bndry_flag\": 'bool', # [\".true.\" | \".false.\"] true for explicit boundary layer computation (presently only for sigma coord climate models)\n",
    "#     \"sigma\": 'numeric', # sigma level for boundary flag\n",
    "#     \"wb_flag\": 'bool', # [\".true.\" | \".false.\"] true for variable lake depth\n",
    "#     \"iceflag\": 'bool', # [\".true.\" | \".false.\"] true for variable ice cover\n",
    "#     \"s_flag\": 'bool', # [\".true.\" | \".false.\"] true for variable salinity\n",
    "#     \"o18flag\": 'bool', # [\".true.\" | \".false.\"] true for variable d18O\n",
    "#     \"deutflag\": 'bool', # [\".true.\" | \".false.\"] true for variable dD\n",
    "#     \"z_screen\": 'numeric',  # [m] height of meteorological inputs\n",
    "\n",
    "# }"
   ]
  },
  {
   "cell_type": "code",
   "execution_count": 35,
   "metadata": {},
   "outputs": [],
   "source": [
    "input_values = {\n",
    "    # ---------------------------------------------------------------------\n",
    "    # --- general model setup\n",
    "    # \n",
    "    'outdir': '/Users/tylerkukla/Documents/GitHub/PRYSM/psm/lake',  # location to save output data\n",
    "    'casename': '_test_case',  # name of the run case\n",
    "    'lake_inc_filename': \"lake_setup.inc\",   # name of the '.inc' file to generate\n",
    "    'lake_inc_template': \"template.inc\",     # name of the '.inc' template to modify\n",
    "    'datafile': \"CP_SLIM_lowTopo_500ppm_test_input.txt\",  # name of the climate input data file (make sure single quotes are w/in double and \\n is at end of single quote)\n",
    "    'output_prof': \"_test_prof.dat\",  # name of the output profile file\n",
    "    'output_surf': \"_test_surf.dat\",  # name of the output surface file\n",
    "    'special_format_1': ['datafile', 'output_prof', 'output_surf'],  # keys that require single quotes w/in double and \\n at end of single quote\n",
    "\n",
    "    # ---------------------------------------------------------------------\n",
    "    # --- TEMPLATE.inc inputs\n",
    "    # \n",
    "    # --- lake-specific parameters\n",
    "    \"oblq\": 23.4,    # obliquity\n",
    "    \"xlat\": -6.30,   # latitude (negative for south)\n",
    "    \"xlon\": 29.5,    # longitude (negative for west)\n",
    "    \"gmt\": \"+3\",     # [hrs] local time relative to gmt in hours\n",
    "    \"max_dep\": 999,  # [m] depth of lake at sill \n",
    "    \"basedep\": 733., # [m] elevation of basin at bottom \n",
    "    \"b_area\": 23100000, # [ha] area of catchment + lake\n",
    "    \"cdrn\": 2.0e-3,  # neutral drag coefficient (1.8 HAD 1.7GISS 1.2CCSM)\n",
    "    \"eta\": 0.065,    # [m-1] shortwave extinction coefficient\n",
    "    \"f\": 0.3,        # fraction of advected air over lake\n",
    "    \"alb_slush\": 0.4, # [] albedo of melting snow\n",
    "    \"alb_snow\": 0.7, # [] albedo of non-melting snow\n",
    "    \"depth_begin\": 570, # [m] prescribed depth\n",
    "    \"salty_begin\": 0.0, # [ppt] prescribed salinity\n",
    "    \"o18air\": -14.0, # [per mil VSMOW] d18O of air above lake\n",
    "    \"deutair\": -96., # [per mil VSMOW] dD of air above lake\n",
    "    \"tempinit\": 18., # [degC] temperature to initialize lake at in INIT_LAKE subroutine\n",
    "    \"deutinit\": -100., # [per mil VSMOW] dD to initialize lake at in INIT_LAKE subroutine\n",
    "    \"o18init\": -10., # [per mil VSMOW] d18O to initialize lake at in INIT_LAKE subroutine\n",
    "    # \n",
    "    # --- simulation-specific parameters\n",
    "    \"nspin\": 10,     # [yrs] number of years for spinup\n",
    "    \"bndry_flag\": \".false.\", # [\".true.\" | \".false.\"] true for explicit boundary layer computation (presently only for sigma coord climate models)\n",
    "    \"sigma\": 0.9925561, # sigma level for boundary flag\n",
    "    \"wb_flag\": \".false.\", # [\".true.\" | \".false.\"] true for variable lake depth\n",
    "    \"iceflag\": \".false.\", # [\".true.\" | \".false.\"] true for variable ice cover\n",
    "    \"s_flag\": \".false.\", # [\".true.\" | \".false.\"] true for variable salinity\n",
    "    \"o18flag\": \".false.\", # [\".true.\" | \".false.\"] true for variable d18O\n",
    "    \"deutflag\": \".false.\", # [\".true.\" | \".false.\"] true for variable dD\n",
    "    \"z_screen\": 5.0,  # [m] height of meteorological inputs\n",
    "}\n",
    "    "
   ]
  },
  {
   "cell_type": "code",
   "execution_count": 36,
   "metadata": {},
   "outputs": [],
   "source": [
    "file_path = os.path.join(input_values['outdir'], input_values['lake_inc_template'])\n",
    "# Read the file into a list of lines\n",
    "with open(file_path, 'r') as file:\n",
    "    lines = file.readlines()\n"
   ]
  },
  {
   "cell_type": "code",
   "execution_count": 37,
   "metadata": {},
   "outputs": [],
   "source": [
    "# process the `parameter` values in each line\n",
    "updated_lines = []\n",
    "for line in lines:\n",
    "    for key, value in input_values.items():\n",
    "        if re.search(rf\"\\b{key}\\b\", line):\n",
    "            if key in input_values['special_format_1']:\n",
    "                tmp_value = f\"'{value}'\\n\"\n",
    "                line = re.sub(rf\"(\\b{key}\\s*=\\s*)([^,)]+)\", rf\"\\g<1>{tmp_value}\", line)\n",
    "            else:\n",
    "                # replace the numeric value for the matching key\n",
    "                line = re.sub(rf\"(\\b{key}\\s*=\\s*)([^,)]+)\", rf\"\\g<1>{value}\", line)\n",
    "                \n",
    "    updated_lines.append(line)\n",
    "\n",
    "# write updated lines to a new file\n",
    "output_file = os.path.join(input_values['outdir'], input_values['casename'], input_values['lake_inc_filename'])\n",
    "with open(output_file, \"w\") as file:\n",
    "    file.writelines(updated_lines)"
   ]
  },
  {
   "cell_type": "code",
   "execution_count": 25,
   "metadata": {},
   "outputs": [],
   "source": [
    "# ----------------"
   ]
  }
 ],
 "metadata": {
  "kernelspec": {
   "display_name": "Python 3",
   "language": "python",
   "name": "python3"
  },
  "language_info": {
   "codemirror_mode": {
    "name": "ipython",
    "version": 3
   },
   "file_extension": ".py",
   "mimetype": "text/x-python",
   "name": "python",
   "nbconvert_exporter": "python",
   "pygments_lexer": "ipython3",
   "version": "3.11.4"
  }
 },
 "nbformat": 4,
 "nbformat_minor": 2
}
