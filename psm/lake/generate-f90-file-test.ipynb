{
 "cells": [
  {
   "cell_type": "code",
   "execution_count": 1,
   "metadata": {},
   "outputs": [],
   "source": [
    "import os\n",
    "import re"
   ]
  },
  {
   "cell_type": "code",
   "execution_count": 14,
   "metadata": {},
   "outputs": [],
   "source": [
    "input_values = {\n",
    "    'outdir': '/Users/tylerkukla/Documents/GitHub/PRYSM/psm/lake',  # location to save output data\n",
    "    'casename': '_test_case',  # name of the run case\n",
    "    'datafile': \"CP_SLIM_lowTopo_500ppm_test_input.txt\",  # name of the climate input data file (make sure single quotes are w/in double and \\n is at end of single quote)\n",
    "    'lake_inc_filename': 'lake_setup.inc', # name of the '.inc' file to generate\n",
    "\n",
    "    'env_f90_template': 'env_heatflux_locked_template.f90',  # name of the .f90 template to read in\n",
    "    'env_f90_filename': 'env_heatflux_locked.f90',  # name of the .f90 file to save \n",
    "    'env_f90_default_inc': 'Tanganyika.inc',  # name of the .inc file included in the env_f90 template (that we need to replace)\n",
    "    'special_format_1': ['datafile', 'output_prof', 'output_surf', 'env_f90_default_inc', 'lake_inc_filename'],  # keys that require single quotes w/in them and a '\\n' paragraph at the end\n",
    "    'special_format_2': ['env_f90_default_inc', 'lake_inc_filename'],  # keys that require single quotes w/in them but no paragraph at the end\n",
    "}"
   ]
  },
  {
   "cell_type": "code",
   "execution_count": 15,
   "metadata": {},
   "outputs": [],
   "source": [
    "# --- create the old and new .inc input filenames\n",
    "old_incfile = f\"'{input_values['env_f90_default_inc']}'\"\n",
    "new_incfile = f\"'{input_values['lake_inc_filename']}'\""
   ]
  },
  {
   "cell_type": "code",
   "execution_count": 16,
   "metadata": {},
   "outputs": [],
   "source": [
    "file_path = os.path.join(input_values['outdir'], input_values['env_f90_template'])\n",
    "# read the file into a list of lines\n",
    "with open(file_path, 'r') as file:\n",
    "    lines = file.readlines()"
   ]
  },
  {
   "cell_type": "code",
   "execution_count": 17,
   "metadata": {},
   "outputs": [],
   "source": [
    "# replace the target string in each line\n",
    "updated_lines = [line.replace(old_incfile, new_incfile) for line in lines]\n",
    "\n",
    "# write the updated lines back to a new file\n",
    "output_file = os.path.join(input_values['outdir'], input_values['casename'], input_values['env_f90_filename'])\n",
    "with open(output_file, \"w\") as file:\n",
    "    file.writelines(updated_lines)\n"
   ]
  },
  {
   "cell_type": "code",
   "execution_count": null,
   "metadata": {},
   "outputs": [],
   "source": [
    "# -------------------------------------------\n"
   ]
  }
 ],
 "metadata": {
  "kernelspec": {
   "display_name": "Python 3",
   "language": "python",
   "name": "python3"
  },
  "language_info": {
   "codemirror_mode": {
    "name": "ipython",
    "version": 3
   },
   "file_extension": ".py",
   "mimetype": "text/x-python",
   "name": "python",
   "nbconvert_exporter": "python",
   "pygments_lexer": "ipython3",
   "version": "3.11.4"
  }
 },
 "nbformat": 4,
 "nbformat_minor": 2
}
